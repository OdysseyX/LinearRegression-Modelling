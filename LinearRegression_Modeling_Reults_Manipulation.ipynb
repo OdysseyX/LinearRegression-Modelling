{
 "cells": [
  {
   "cell_type": "markdown",
   "metadata": {},
   "source": [
    "# <span style=\"color:#0b486b\">SIT 112 - Data Science Concepts</span>\n",
    "# <span style=\"color:#0b486b\">Data Science Project</span>\n",
    "\n",
    "---\n",
    "Lecturer: Sergiy Shelyag | sergiy.shelyag@deakin.edu.au<br />\n",
    "\n",
    "School of Information Technology, <br />\n",
    "Deakin University, VIC 3215, Australia.\n",
    "\n",
    "### <span style=\"color:#0b486b\">Due: 5pm, 5st June 2020</span>\n",
    "---\n"
   ]
  },
  {
   "cell_type": "markdown",
   "metadata": {},
   "source": [
    "### <span style=\"color:#0b486b\">Instructions</span>\n",
    "\n",
    "This notebook has been prepared for you to complete the Data Science Project. Some sections have been pre-filled  to help you get started. **The total mark for this task is 100**.\n",
    "\n",
    "There are two parts in this notebook that require you to complete:\n",
    "\n",
    "* **Part 1**: *Linear Regression* (**70 marks**)\n",
    "* **Part 2**: *Classification* (**30 marks**)\n",
    "\n",
    "Each part includes three main components:\n",
    " * **A:** Load a dataset from sklearn and examine it.\n",
    " * **B:** Build a training model and make predictions.\n",
    " * **C:** Report the results and visualize the data.\n",
    "\n",
    "Before you start, read the entire notebook carefully to understand what you need to do. You should also refer to the main instructions in *Project_instructions.pdf*  to know what else you need to complete for this project.\n",
    "\n",
    "As you go through this notebook:\n",
    "\n",
    "\n",
    "* markdown cells marked with **Note** mean description sections.\n",
    "\n",
    "\n",
    "* markdown cells marked with **Instructions** mean the instructions given to you to complete the sections.\n",
    "\n",
    "\n",
    "* Instructions marked with **(D)** and **(HD)** are for students aiming at high grades. They are more involved and can be completed after all other instructions.\n",
    "\n",
    "\n",
    "* For each cell marked with **#YOU ARE REQUIRED TO INSERT YOUR CODE IN THIS CELL**, there will be places where you **must** supply your own codes when instructed. <br><br>\n",
    "\n",
    "* For each cell marked with **#YOU ARE REQUIRED TO INSERT YOUR COMMENT IN THIS CELL**, there will be place where you **must** provide your own comment when instructed. <br><br>\n",
    "\n",
    "\n",
    "In the end, you must execute the entire notebook and submit two files:\n",
    "\n",
    " 1. The source of your solution notebook: **[YourID]_project_solution.ipynb**\n",
    " 2. And an exported version of your output: **[YourID]_project_output.html**\n",
    "       \n",
    "\n",
    "Please proceed with the instructions for each part below to complete your tasks."
   ]
  },
  {
   "cell_type": "markdown",
   "metadata": {},
   "source": [
    "**Note**: The following packages will be required for this assignment. If you need to import more packages, you might append them to the end of the following cell. "
   ]
  },
  {
   "cell_type": "code",
   "execution_count": 425,
   "metadata": {},
   "outputs": [],
   "source": [
    "'''\n",
    "Import packages needed for processing\n",
    "'''\n",
    "import numpy as npx\n",
    "from sklearn import datasets\n",
    "import sklearn.metrics as metrics\n",
    "\n",
    "from sklearn import linear_model\n",
    "from sklearn import naive_bayes\n",
    "from sklearn.manifold import TSNE\n",
    "import matplotlib.pyplot as plt \n",
    "\n",
    "\n",
    "%matplotlib inline\n",
    "\n",
    "'''\n",
    "If you need add any additional packages, then add them below this line\n",
    "'''\n",
    "from math import sqrt\n",
    "from sklearn.metrics import mean_absolute_error\n",
    "from sklearn.metrics import mean_squared_error\n",
    "from sklearn.metrics import accuracy_score\n",
    "from sklearn.metrics import precision_score\n",
    "from sklearn.metrics import recall_score\n",
    "from sklearn.metrics import f1_score\n"
   ]
  },
  {
   "cell_type": "markdown",
   "metadata": {},
   "source": [
    "# <span style=\"color:#0b486b\">Part 1: Linear Regression</span>\n",
    "\n",
    "In this part, you will be required to work on Linear Regression for the Linnerud dataset from sklearn.\n",
    "\n",
    "The Linnerud dataset is a multi-output regression dataset. It consists of three excercise (data) and three physiological (target) variables collected from twenty middle-aged men in a fitness club:\n",
    "\n",
    "physiological - containing 20 observations on 3 physiological variables:\n",
    "Weight, Waist and Pulse.\n",
    "\n",
    "exercise - containing 20 observations on 3 exercise variables:\n",
    "Chins, Situps and Jumps."
   ]
  },
  {
   "cell_type": "markdown",
   "metadata": {},
   "source": [
    "## Part 1A: Load and examine the Linnerud dataset"
   ]
  },
  {
   "cell_type": "markdown",
   "metadata": {},
   "source": [
    "**Instruction 1.1.** Write your code to load the **Linnerud** dataset from sklearn and assign it to a variable called `linnerud`.\n",
    "\n",
    "[**Total mark: 3**]"
   ]
  },
  {
   "cell_type": "code",
   "execution_count": 426,
   "metadata": {},
   "outputs": [
    {
     "name": "stdout",
     "output_type": "stream",
     "text": [
      "dict_keys(['data', 'feature_names', 'target', 'target_names', 'DESCR', 'data_filename', 'target_filename'])\n"
     ]
    }
   ],
   "source": [
    "# YOU ARE REQUIRED TO INSERT YOUR CODES IN THIS CELL\n",
    "'''\n",
    "1. Write your code to load the **Linnerud** dataset from sklearn \n",
    "    and assign it to a variable called `linnerud`.\n",
    "'''\n",
    "linnerud = datasets.load_linnerud()\n",
    "\n",
    "print(linnerud.keys())"
   ]
  },
  {
   "cell_type": "markdown",
   "metadata": {},
   "source": [
    "**Note:** `linnerud` is a dictionary with two keys: *'data'* - a numpy array containing the features and *'target'* containing the labels. The cell code below assigns the data to variable `X` and the labels to variable `Y`. Run the cell and use `X` and `Y` for later tasks."
   ]
  },
  {
   "cell_type": "code",
   "execution_count": 427,
   "metadata": {},
   "outputs": [],
   "source": [
    "X = linnerud['data']\n",
    "Y = linnerud['target']\n",
    "feature_names_X = linnerud['feature_names']\n",
    "label_names_Y = linnerud['target_names']"
   ]
  },
  {
   "cell_type": "markdown",
   "metadata": {},
   "source": [
    "**Instruction 1.2.** Now you need to examine the size and structure of the dataset. \n",
    "\n",
    "**Your tasks are:**\n",
    "1. Write your code to find and print out the number of **samples** and the number of **features** in the dataset. (1 mark)\n",
    "2. Print the feature and label names for the dataset. (1 mark)\n",
    "\n",
    "[**Total mark: 2**]"
   ]
  },
  {
   "cell_type": "code",
   "execution_count": 428,
   "metadata": {},
   "outputs": [
    {
     "name": "stdout",
     "output_type": "stream",
     "text": [
      "The number of samples:\n",
      "20\n",
      "The number of features:\n",
      "3\n",
      "The names of features:  ['Chins', 'Situps', 'Jumps']\n",
      "The label names:  ['Weight', 'Waist', 'Pulse']\n"
     ]
    }
   ],
   "source": [
    "# YOU ARE REQUIRED TO INSERT YOUR CODES IN THIS CELL\n",
    "'''\n",
    "1. Write your code to find and print out the number of **samples** \n",
    "    and the number of **features** in the dataset.\n",
    "    Using variable X.\n",
    "'''\n",
    "print('The number of samples:')\n",
    "print(len(X))\n",
    "\n",
    "\n",
    "print('The number of features:')\n",
    "print(len(X[0]))\n",
    "\n",
    "\n",
    "# 2. Print the feature and label names for the dataset.\n",
    "print('The names of features: ',feature_names_X)\n",
    "print('The label names: ',label_names_Y)"
   ]
  },
  {
   "cell_type": "markdown",
   "metadata": {},
   "source": [
    "**Instruction 1.3.** We also need to get a brief understanding about the task by doing some statistics on the features and labels.\n",
    "\n",
    "**Your tasks are:**\n",
    "\n",
    "1. Write your code to print the **min**, **max**, **median** for each of the features. You need to use a loop in this task. (2 marks)\n",
    "2. Construct a **box-plot** for each of the features. (3 marks)\n",
    "\n",
    "3. Write your code to print the **min**, **max**, **median** for each of the labels. You need to use a loop in this task. (1 marks)\n",
    "4. Construct a **box-plot** for each of the labels. (1 marks)\n",
    "\n",
    "Do not forget to look at the feature and label names and print them in the output accordingly.\n",
    "\n",
    "[**Total marks: 7**]"
   ]
  },
  {
   "cell_type": "code",
   "execution_count": 429,
   "metadata": {},
   "outputs": [
    {
     "name": "stdout",
     "output_type": "stream",
     "text": [
      "Min value for Chins is:  1.0\n",
      "Max value for Chins is:  17.0\n",
      "Median value for Chins is:  11.5\n",
      "=================================\n",
      "Min value for Situps is:  50.0\n",
      "Max value for Situps is:  251.0\n",
      "Median value for Situps is:  122.5\n",
      "=================================\n",
      "Min value for Jumps is:  25.0\n",
      "Max value for Jumps is:  250.0\n",
      "Median value for Jumps is:  54.0\n",
      "=================================\n"
     ]
    }
   ],
   "source": [
    "# YOU ARE REQUIRED TO INSERT YOUR CODES IN THIS CELL\n",
    "#1. Write your code to print the min, max, median for each of the features. You need to use a loop in this task. \n",
    "Array_Chins = []\n",
    "Array_Situps = []\n",
    "Array_Jumps = []\n",
    "        \n",
    "for item in X:\n",
    "    a = item[0]\n",
    "    Array_Chins.append(a)\n",
    "    \n",
    "print(\"Min value for Chins is: \",npx.min(Array_Chins))\n",
    "print(\"Max value for Chins is: \",npx.max(Array_Chins))\n",
    "print(\"Median value for Chins is: \",npx.median(Array_Chins))\n",
    "print(\"=================================\")\n",
    "\n",
    "for item in X:\n",
    "    a = item[1]\n",
    "    Array_Situps.append(a)\n",
    "    \n",
    "print(\"Min value for Situps is: \",npx.min(Array_Situps))\n",
    "print(\"Max value for Situps is: \",npx.max(Array_Situps))\n",
    "print(\"Median value for Situps is: \",npx.median(Array_Situps))\n",
    "print(\"=================================\")\n",
    "\n",
    "for item in X:\n",
    "    a = item[2]\n",
    "    Array_Jumps.append(a)\n",
    "\n",
    "print(\"Min value for Jumps is: \",npx.min(Array_Jumps))\n",
    "print(\"Max value for Jumps is: \",npx.max(Array_Jumps))\n",
    "print(\"Median value for Jumps is: \",npx.median(Array_Jumps))\n",
    "print(\"=================================\")"
   ]
  },
  {
   "cell_type": "code",
   "execution_count": 430,
   "metadata": {},
   "outputs": [
    {
     "name": "stdout",
     "output_type": "stream",
     "text": [
      "=================================\n"
     ]
    },
    {
     "data": {
      "text/plain": [
       "Text(0.5, 1.0, 'Jumps BoxPlot')"
      ]
     },
     "execution_count": 430,
     "metadata": {},
     "output_type": "execute_result"
    },
    {
     "data": {
      "image/png": "[encoded data removed]",
      "text/plain": [
       "<Figure size 504x360 with 1 Axes>"
      ]
     },
     "metadata": {
      "needs_background": "light"
     },
     "output_type": "display_data"
    },
    {
     "data": {
      "image/png": "[encoded data removed]",
      "text/plain": [
       "<Figure size 504x360 with 1 Axes>"
      ]
     },
     "metadata": {
      "needs_background": "light"
     },
     "output_type": "display_data"
    },
    {
     "data": {
      "image/png": "[encoded data removed]",
      "text/plain": [
       "<Figure size 504x360 with 1 Axes>"
      ]
     },
     "metadata": {
      "needs_background": "light"
     },
     "output_type": "display_data"
    }
   ],
   "source": [
    "# YOU ARE REQUIRED TO INSERT YOUR CODES IN THIS CELL\n",
    "#2. Construct a box-plot for each of the features.\n",
    "# INSERT YOUR CODE HERE FIX THIS UP\n",
    "print(\"=================================\")\n",
    "#Chins\n",
    "fig, ax = plt.subplots(figsize=(7, 5))\n",
    "plt.rcParams.update({'font.size': 14})\n",
    "ax.boxplot(Array_Chins, 0, labels=['Linnerud'])\n",
    "ax.set_ylabel('Number Completed', fontsize=16)\n",
    "ax.set_title('Chins BoxPlot', fontsize=16)\n",
    "\n",
    "#Situps\n",
    "fig, ax = plt.subplots(figsize=(7, 5))\n",
    "plt.rcParams.update({'font.size': 14})\n",
    "ax.boxplot(Array_Situps, 0, labels=['Linnerud'])\n",
    "ax.set_ylabel('Number Completed', fontsize=16)\n",
    "ax.set_title('Situps BoxPlot', fontsize=16)\n",
    "\n",
    "#Jumps\n",
    "fig, ax = plt.subplots(figsize=(7, 5))\n",
    "plt.rcParams.update({'font.size': 14})\n",
    "ax.boxplot(Array_Jumps, 0, labels=['Linnerud'])\n",
    "ax.set_ylabel('Number Completed', fontsize=16)\n",
    "ax.set_title('Jumps BoxPlot', fontsize=16)"
   ]
  },
  {
   "cell_type": "code",
   "execution_count": 434,
   "metadata": {},
   "outputs": [
    {
     "name": "stdout",
     "output_type": "stream",
     "text": [
      "Min value for Weight is:  138.0\n",
      "Max value for Weight is:  247.0\n",
      "Median value for Weight is:  176.0\n",
      "=================================\n",
      "Min value for Waist is:  31.0\n",
      "Max value for Waist is:  46.0\n",
      "Median value for Waist is:  35.0\n",
      "=================================\n",
      "Min value for Pulse is:  46.0\n",
      "Max value for Pulse is:  74.0\n",
      "Median value for Pulse is:  55.0\n",
      "=================================\n"
     ]
    }
   ],
   "source": [
    "# YOU ARE REQUIRED TO INSERT YOUR CODES IN THIS CELL\n",
    "#3. Write your code to print the min, max, median for each of the labels. You need to use a loop in this task. \n",
    "# INSERT YOUR CODE HERE\n",
    "Array_Weight = []\n",
    "Array_Waist = []\n",
    "Array_Pulse = []\n",
    "\n",
    "for item in Y:\n",
    "    a = item[0]\n",
    "    Array_Weight.append(a)\n",
    "    \n",
    "print(\"Min value for Weight is: \",npx.min(Array_Weight))\n",
    "print(\"Max value for Weight is: \",npx.max(Array_Weight))\n",
    "print(\"Median value for Weight is: \",npx.median(Array_Weight))\n",
    "print(\"=================================\")\n",
    "\n",
    "for item in Y:\n",
    "    a = item[1]\n",
    "    Array_Waist.append(a)\n",
    "    \n",
    "print(\"Min value for Waist is: \",npx.min(Array_Waist))\n",
    "print(\"Max value for Waist is: \",npx.max(Array_Waist))\n",
    "print(\"Median value for Waist is: \",npx.median(Array_Waist))\n",
    "print(\"=================================\")\n",
    "\n",
    "for item in Y:\n",
    "    a = item[2]\n",
    "    Array_Pulse.append(a)\n",
    "\n",
    "print(\"Min value for Pulse is: \",npx.min(Array_Pulse))\n",
    "print(\"Max value for Pulse is: \",npx.max(Array_Pulse))\n",
    "print(\"Median value for Pulse is: \",npx.median(Array_Pulse))\n",
    "print(\"=================================\")"
   ]
  },
  {
   "cell_type": "code",
   "execution_count": 316,
   "metadata": {},
   "outputs": [
    {
     "data": {
      "text/plain": [
       "Text(0.5, 1.0, 'Pulse BoxPlot')"
      ]
     },
     "execution_count": 316,
     "metadata": {},
     "output_type": "execute_result"
    },
    {
     "data": {
      "image/png": "[encoded data removed]",
      "text/plain": [
       "<Figure size 504x360 with 1 Axes>"
      ]
     },
     "metadata": {
      "needs_background": "light"
     },
     "output_type": "display_data"
    },
    {
     "data": {
      "image/png": "[encoded data removed]",
      "text/plain": [
       "<Figure size 504x360 with 1 Axes>"
      ]
     },
     "metadata": {
      "needs_background": "light"
     },
     "output_type": "display_data"
    },
    {
     "data": {
      "image/png": "[encoded data removed]",
      "text/plain": [
       "<Figure size 504x360 with 1 Axes>"
      ]
     },
     "metadata": {
      "needs_background": "light"
     },
     "output_type": "display_data"
    }
   ],
   "source": [
    "# YOU ARE REQUIRED TO INSERT YOUR CODES IN THIS CELL\n",
    "#4. Construct a box-plot for each of the features.\n",
    "# INSERT YOUR CODE HERE\n",
    "\n",
    "#Weight\n",
    "fig, ax = plt.subplots(figsize=(7, 5))\n",
    "plt.rcParams.update({'font.size': 14})\n",
    "ax.boxplot(Array_Weight, 0, labels=['Linnerud'])\n",
    "ax.set_ylabel('Weight (lbs)', fontsize=16)\n",
    "ax.set_title('Weight BoxPlot', fontsize=16)\n",
    "\n",
    "#Situps\n",
    "fig, ax = plt.subplots(figsize=(7, 5))\n",
    "plt.rcParams.update({'font.size': 14})\n",
    "ax.boxplot(Array_Waist, 0, labels=['Linnerud'])\n",
    "ax.set_ylabel('Value', fontsize=16)\n",
    "ax.set_title('Situps BoxPlot', fontsize=16)\n",
    "\n",
    "#Jumps\n",
    "fig, ax = plt.subplots(figsize=(7, 5))\n",
    "plt.rcParams.update({'font.size': 14})\n",
    "ax.boxplot(Array_Pulse, 0, labels=['Linnerud'])\n",
    "ax.set_ylabel('Value (BPM)', fontsize=16)\n",
    "ax.set_title('Pulse BoxPlot', fontsize=16)"
   ]
  },
  {
   "cell_type": "markdown",
   "metadata": {},
   "source": [
    "## Part 1B. Linear Regression\n",
    "\n",
    "You are required to apply Linear Regression to train and make predictions on the **Linnerud** dataset."
   ]
  },
  {
   "cell_type": "markdown",
   "metadata": {},
   "source": [
    "**Note:** To perform a supervised learning task, we need to train the model on a training set of the input data and the correct labels, and predict the trained model on **unseen** data. Then, we use the correct labels of the **unseen** data to evaluate the performance of the model. The **unseen** dataset is called the **test set**.\n",
    "\n",
    "In this part, we will be using one-dimensional linear regression using `Situps` feature and `Waist` label."
   ]
  },
  {
   "cell_type": "markdown",
   "metadata": {},
   "source": [
    "**Instruction 1.4.** First you need to split the required feature and label from the **Linnerud** dataset into a training set and a test set. We will use 70% samples for training and 30% for testing. Print the number of samples in each set.\n",
    "\n",
    "[**Total marks: 5**]"
   ]
  },
  {
   "cell_type": "code",
   "execution_count": 435,
   "metadata": {},
   "outputs": [
    {
     "name": "stdout",
     "output_type": "stream",
     "text": [
      "The number of samples in the training set:\n",
      "28\n",
      "The number of samples in the test set:\n",
      "12\n"
     ]
    }
   ],
   "source": [
    "# YOU ARE REQUIRED TO INSERT YOUR CODES IN THIS CELL\n",
    "X_for_1D_LR = X[:,npx.where(npx.array([feature_names_X])[0] == 'Situps')[0]]\n",
    "Y_for_1D_LR = Y[:,npx.where(npx.array([label_names_Y])[0] == 'Waist')[0]]\n",
    "\n",
    "# first, compute the number of samples in the training set:\n",
    "n_train = int(len(Y_for_1D_LR) * 0.7)\n",
    "\n",
    "# The training set is the first n_train samples in the dataset\n",
    "X_train = X_for_1D_LR[: n_train]\n",
    "Y_train = Y_for_1D_LR[: n_train]\n",
    "\n",
    "# The test set is the remaining samples in the dataset\n",
    "X_test = X_for_1D_LR[n_train: ]\n",
    "Y_test = Y_for_1D_LR[n_train: ]\n",
    "\n",
    "# Print the number of samples in the training set\n",
    "print('The number of samples in the training set:')\n",
    "print( len(X_train) + len(Y_train))\n",
    "\n",
    "\n",
    "# Print the number of samples in the test set\n",
    "print('The number of samples in the test set:')\n",
    "print( len(X_test) + len(Y_test))\n"
   ]
  },
  {
   "cell_type": "markdown",
   "metadata": {},
   "source": [
    "**Instruction 1.5.** Your tasks are:\n",
    "1. Create a Linear Regression model called `lr`. (5 marks)\n",
    "2. Fit the training data to the model. (5 marks)\n",
    "\n",
    "[**Total marks: 10**]"
   ]
  },
  {
   "cell_type": "code",
   "execution_count": 436,
   "metadata": {},
   "outputs": [],
   "source": [
    "# YOU ARE REQUIRED TO INSERT YOUR CODES IN THIS CELL\n",
    "\n",
    "lr = linear_model.LinearRegression()"
   ]
  },
  {
   "cell_type": "code",
   "execution_count": 437,
   "metadata": {},
   "outputs": [
    {
     "data": {
      "text/plain": [
       "LinearRegression(copy_X=True, fit_intercept=True, n_jobs=None, normalize=False)"
      ]
     },
     "execution_count": 437,
     "metadata": {},
     "output_type": "execute_result"
    }
   ],
   "source": [
    "# YOU ARE REQUIRED TO INSERT YOUR CODES IN THIS CELL\n",
    "\n",
    "lr.fit(X_train, Y_train)"
   ]
  },
  {
   "cell_type": "markdown",
   "metadata": {},
   "source": [
    "**Instruction 1.6** Predict the output of the test set.\n",
    "\n",
    "[**Total marks: 5**]"
   ]
  },
  {
   "cell_type": "code",
   "execution_count": 438,
   "metadata": {
    "scrolled": true
   },
   "outputs": [
    {
     "name": "stdout",
     "output_type": "stream",
     "text": [
      "Y prediction: \n",
      "[[39.1280724 ]\n",
      " [32.60660856]\n",
      " [39.59389124]\n",
      " [31.67497087]\n",
      " [31.90788029]\n",
      " [37.26479701]]\n"
     ]
    }
   ],
   "source": [
    "# INSERT YOUR CODE HERE\n",
    "yhat = lr.predict(X_test)\n",
    "print(\"Y prediction: \")\n",
    "print(yhat)"
   ]
  },
  {
   "cell_type": "markdown",
   "metadata": {},
   "source": [
    "**Instruction 1.7** Construct a plot, where you will show the regression line for `Waist` vs `Situps`, the training data (use blue colour), the testing data (use green colour), and the residuals for the testing data.\n",
    "\n",
    "[**Total marks: 5**]"
   ]
  },
  {
   "cell_type": "code",
   "execution_count": 439,
   "metadata": {},
   "outputs": [
    {
     "data": {
      "image/png": "[encoded data removed]",
      "text/plain": [
       "<Figure size 700x700 with 1 Axes>"
      ]
     },
     "metadata": {
      "needs_background": "light"
     },
     "output_type": "display_data"
    }
   ],
   "source": [
    "# YOU ARE REQUIRED TO INSERT YOUR CODES IN THIS CELL\n",
    "# Construct a plot, where you will show the regression line for Waist vs Situps, the training data (use blue colour), \n",
    "# the testing data (use green colour), and the residuals for the testing data.\n",
    "# INSERT YOUR CODE HERE\n",
    "\n",
    "fig,ax = plt.subplots(figsize=(7,7),dpi=100)\n",
    "\n",
    "# visualise Test\n",
    "scales = 20 * npx.ones(len(Y_test))\n",
    "ax.scatter(X_test, Y_test,color='green',s = scales, alpha=0.7,edgecolor='black')\n",
    "# visualise Training\n",
    "scales = 20 * npx.ones(len(Y_train))\n",
    "ax.scatter(X_train, Y_train,color='blue',s = scales, alpha=0.7,edgecolor='black')\n",
    "\n",
    "# visualise the data with the predicted labels\n",
    "plt.xlabel('X Waist')\n",
    "plt.ylabel('Y Situps')\n",
    "plt.title('Linear Regression line for Wasit vs Situps')\n",
    "plt.plot(X_test,yhat)\n",
    "\n",
    "#resid\n",
    "tmp = npx.reshape(X_test,[1,len(X_test)])[0]\n",
    "tmp_x = []\n",
    "tmp_y = []\n",
    "for i in range(len(X_test)):\n",
    "    tmp_x = npx.append(tmp_x, tmp[i])\n",
    "    tmp_y = npx.append(tmp_y, Y_test[i])\n",
    "    tmp_x = npx.append(tmp_x, tmp[i])\n",
    "    tmp_y = npx.append(tmp_y, yhat[i])\n",
    "    ax.plot(tmp_x, tmp_y, color = 'purple', linewidth = 0.5)\n",
    "    tmp_x = []\n",
    "    tmp_y = []"
   ]
  },
  {
   "cell_type": "markdown",
   "metadata": {
    "collapsed": true
   },
   "source": [
    "## Part 1C. Results"
   ]
  },
  {
   "cell_type": "markdown",
   "metadata": {},
   "source": [
    "**Note:** To evaluate the performance of a Linear Regression model, two commonly used measures are **mean absolute error** and **root mean squared error**.\n",
    "\n",
    "**mean absolute error** is defined by:\n",
    "\n",
    "$$mean\\_absolute\\_error(Y_{test}, Y_{pred}) = \\frac{1}{n_{samples}}\\sum_{i=1}^{n_{samples}}|y_{test}^i - y_{pred}^i|$$\n",
    "\n",
    "**root mean squared error** is defined by:\n",
    "\n",
    "$$root\\_mean\\_squared\\_error(Y_{test}, Y_{pred}) = \\sqrt{\\frac{1}{n_{samples}}\\sum_{i=1}^{n_{samples}}(y_{test}^i - y_{pred}^i)^2}$$\n"
   ]
  },
  {
   "cell_type": "markdown",
   "metadata": {},
   "source": [
    "**Instruction 1.8.** Compute **mean absolute error** and **root mean squared error** between the correct labels and the predictions of the test set and print these two values.\n",
    "\n",
    "[**Total marks: 8**]\n",
    "\n",
    "**Hint:** You might need to use [Regression metrics](http://scikit-learn.org/stable/modules/model_evaluation.html#regression-metrics) from sklearn."
   ]
  },
  {
   "cell_type": "code",
   "execution_count": 440,
   "metadata": {},
   "outputs": [
    {
     "name": "stdout",
     "output_type": "stream",
     "text": [
      "The mean absolute error between Y_test and Y_pred:  6.107298984904923\n",
      "The root mean squared error between Y_test and Y_pred:  2.47129500159429\n"
     ]
    }
   ],
   "source": [
    "# YOU ARE REQUIRED TO INSERT YOUR CODES IN THIS CELL\n",
    "\n",
    "# Compute the mean absolute error between Y_test and Y_pred\n",
    "# Then, print the value\n",
    "# INSERT YOUR CODE HERE\n",
    "Y_pred = lr.predict(Y_test)\n",
    "print(\"The mean absolute error between Y_test and Y_pred: \",mean_absolute_error(Y_test, Y_pred))\n",
    "\n",
    "\n",
    "# Compute the root mean squared error between Y_test and Y_pred\n",
    "# Then, print the value\n",
    "# INSERT YOUR CODE HERE\n",
    "print(\"The root mean squared error between Y_test and Y_pred: \",sqrt(mean_absolute_error(Y_test, Y_pred)))\n"
   ]
  },
  {
   "cell_type": "markdown",
   "metadata": {},
   "source": [
    "## Part 1D. More advanced modelling"
   ]
  },
  {
   "cell_type": "markdown",
   "metadata": {},
   "source": [
    "**Instruction 1.9 (D, HD)** As we can see, the dataset has multi-dimensional feature vector. Previously we used only one feature to do one-dimensional linear regression model. In this task, we want to create a **two**-dimensional linear regression model for the label `Weight`. First of all, **using Pearson correlation**, we need to decide, which two of three independent variables would be best to use for Y vector in linear regression. Therefore, your tasks are:\n",
    "1. Write your code to find out which two out of three variables you will be using for linear regression. (5 marks)\n",
    "2. Explain your choice. (5 marks)\n",
    "\n",
    "[**Total marks: 10**]"
   ]
  },
  {
   "cell_type": "code",
   "execution_count": 441,
   "metadata": {},
   "outputs": [
    {
     "name": "stdout",
     "output_type": "stream",
     "text": [
      "Label names: ['Weight', 'Waist', 'Pulse']\n",
      "Corrilation between Weight and Waist: \n",
      "0.9160457811270436\n",
      "Corrilation between Weight and Pulse: \n",
      "-0.38501266547243124\n"
     ]
    }
   ],
   "source": [
    "# YOU ARE REQUIRED TO INSERT YOUR CODES IN THIS CELL\n",
    "# Write your code to find out which two out of three variable you will be using for linear regression.\n",
    "# INSERT YOUR CODE HERE\n",
    "\n",
    "print('Label names:',label_names_Y)\n",
    "Weight = Y[:,0]\n",
    "Waist = Y[:,1]\n",
    "Pulse = Y[:,2]\n",
    "\n",
    "print(\"Corrilation between Weight and Waist: \")\n",
    "pearson_r_ww = npx.cov(Weight,Waist)[0,1] / (Weight.std() * Waist.std())\n",
    "print(pearson_r_ww)\n",
    "\n",
    "print(\"Corrilation between Weight and Pulse: \")\n",
    "pearson_r_wp = npx.cov(Weight,Pulse)[0,1] / (Weight.std() * Pulse.std())\n",
    "print(pearson_r_wp)"
   ]
  },
  {
   "cell_type": "code",
   "execution_count": 442,
   "metadata": {},
   "outputs": [],
   "source": [
    "# YOU ARE REQUIRED TO INSERT YOUR COMMENT IN THIS CELL\n",
    "\n",
    "#I choosen the waist varable as the one i will be using for thee linear regression as it has a higher correlation meaning that \n",
    "# they are closely related variables \n"
   ]
  },
  {
   "cell_type": "markdown",
   "metadata": {},
   "source": [
    "**Instruction 1.10 (D, HD)** After we have decided, which features are best to use for linear regression, we need to create training and testing data, where the feature vector is two-dimensional and the label is `Weight`. Also, we will need to compare the two-dimensional linear regression (based on two best independent variables) with on-dimensional linear regression (based on the best independent variable). Therefore, we will need to create a dataset with one-dimensional feature vector for comparison.\n",
    "\n",
    "Your task is:\n",
    "1. Create the training and testing datasets for two-dimensional linear regression. (4 marks)\n",
    "2. Create the one-dimensional training and testing dataset for comparison with 2D linear regression. (1 mark)\n",
    "\n",
    "[**Total marks: 5**]"
   ]
  },
  {
   "cell_type": "code",
   "execution_count": 443,
   "metadata": {},
   "outputs": [],
   "source": [
    "# YOU ARE REQUIRED TO INSERT YOUR CODES IN THIS CELL\n",
    "# INSERT YOUR CODE HERE\n",
    "# INSERT YOUR CODE HERE\n",
    "\n",
    "# first, compute the number of samples in the training set:\n",
    "#NEED to DO\n",
    "\n",
    "# The training set is the first n_train samples in the dataset\n",
    "#NEED to DO\n",
    "\n",
    "# The test set is the remaining samples in the dataset\n",
    "#NEED to DO\n",
    "\n",
    "# The 1D comparison dataset\n",
    "# INSERT YOUR CODE HERE\n",
    "# INSERT YOUR CODE HERE\n",
    "# INSERT YOUR CODE HERE\n",
    "\n",
    "\n"
   ]
  },
  {
   "cell_type": "markdown",
   "metadata": {},
   "source": [
    "**Instruction 1.11 (D, HD)** We have the training and testing data now. Therefore, your tasks are:\n",
    "1. Create a linear regression model named `lr2d`. (1 mark)\n",
    "2. Fit the training data to the model. (1 mark)\n",
    "3. Predict the output on the test set. (1 mark)\n",
    "4. Compute **mean absolute error** and **root mean squared error** between the correct labels and the predictions of the test set and print these two values. (1 mark)\n",
    "\n",
    "[**Total marks: 4**]"
   ]
  },
  {
   "cell_type": "code",
   "execution_count": 444,
   "metadata": {},
   "outputs": [],
   "source": [
    "#PLACE HOLDER VARABLES USED IN THIS SECTION NOOED TO COMPLETE 1.10"
   ]
  },
  {
   "cell_type": "code",
   "execution_count": 445,
   "metadata": {},
   "outputs": [],
   "source": [
    "# YOU ARE REQUIRED TO INSERT YOUR CODES IN THIS CELL\n",
    "# INSERT YOUR CODE HERE\n",
    "lr2d = linear_model.LinearRegression()"
   ]
  },
  {
   "cell_type": "code",
   "execution_count": 446,
   "metadata": {},
   "outputs": [
    {
     "data": {
      "text/plain": [
       "LinearRegression(copy_X=True, fit_intercept=True, n_jobs=None, normalize=False)"
      ]
     },
     "execution_count": 446,
     "metadata": {},
     "output_type": "execute_result"
    }
   ],
   "source": [
    "# YOU ARE REQUIRED TO INSERT YOUR CODES IN THIS CELL\n",
    "# INSERT YOUR CODE HERE\n",
    "lr2d.fit(X_train,Y_train)"
   ]
  },
  {
   "cell_type": "code",
   "execution_count": 447,
   "metadata": {},
   "outputs": [
    {
     "name": "stdout",
     "output_type": "stream",
     "text": [
      "X_test prediction: \n",
      "[[39.1280724 ]\n",
      " [32.60660856]\n",
      " [39.59389124]\n",
      " [31.67497087]\n",
      " [31.90788029]\n",
      " [37.26479701]]\n"
     ]
    }
   ],
   "source": [
    "# YOU ARE REQUIRED TO INSERT YOUR CODES IN THIS CELL\n",
    "y2hat = lr2d.predict(X_test)\n",
    "print(\"X_test prediction: \")\n",
    "print(y2hat)"
   ]
  },
  {
   "cell_type": "code",
   "execution_count": 448,
   "metadata": {},
   "outputs": [
    {
     "name": "stdout",
     "output_type": "stream",
     "text": [
      "The mean absolute error for Y_test_2D and Y_pred_2D: \n",
      "2.6328834897177003\n",
      "==========================\n",
      "The root mean squared error for Y_test_2D and Y_pred_2D: \n",
      "3.035947409287648\n"
     ]
    }
   ],
   "source": [
    "# YOU ARE REQUIRED TO INSERT YOUR CODES IN THIS CELL\n",
    "\n",
    "Y_pred_2D = lr2d.predict(Y_test)\n",
    "print(\"The mean absolute error for Y_test_2D and Y_pred_2D: \")\n",
    "print(mean_absolute_error(Y_test, y2hat))\n",
    "print(\"==========================\")\n",
    "\n",
    "print(\"The root mean squared error for Y_test_2D and Y_pred_2D: \")\n",
    "print(sqrt(mean_squared_error(Y_test, y2hat)))"
   ]
  },
  {
   "cell_type": "markdown",
   "metadata": {},
   "source": [
    "**Instruction 1.12 (D, HD)** Now we can compare the errors for two-dimensional linear regression with one-dimensional linear regression. Your tasks are:\n",
    "1. Create a linear regression model named `lr1d_compare`. Fit the one-dimensional training data and the same labels to the model. Predict the output on the comparison dataset. (1 mark)\n",
    "2. Compute **mean absolute error** and **root mean squared error** between the correct labels and the predictions of the comparison set and print these two values. (1 mark)\n",
    "3. Discuss the findings and explain the result. In discussion, consider the relationships between the size of the dataset, the Pearson correlation coefficients you have calculated above, the `Weight` values and the values of errors. (4 marks)\n",
    "\n",
    "[**Total marks: 6**]"
   ]
  },
  {
   "cell_type": "code",
   "execution_count": 449,
   "metadata": {},
   "outputs": [],
   "source": [
    "# YOU ARE REQUIRED TO INSERT YOUR CODES IN THIS CELL\n",
    "# INSERT YOUR CODE HERE\n"
   ]
  },
  {
   "cell_type": "code",
   "execution_count": 450,
   "metadata": {},
   "outputs": [],
   "source": [
    "# YOU ARE REQUIRED TO INSERT YOUR CODES IN THIS CELL\n",
    "# INSERT YOUR CODE HERE\n"
   ]
  },
  {
   "cell_type": "code",
   "execution_count": 451,
   "metadata": {},
   "outputs": [],
   "source": [
    "# YOU ARE REQUIRED TO INSERT YOUR COMMENT IN THIS CELL\n",
    "# INSERT YOUR COMMENT HERE\n"
   ]
  },
  {
   "cell_type": "markdown",
   "metadata": {},
   "source": [
    "# <span style=\"color:#0b486b\">Part 2: Classification</span>\n",
    "\n",
    "In this part, you will be required to apply Naive Bayes algorithm for the classification task on the **breast cancer** dataset from sklearn. More about the dataset can be found [here](http://scikit-learn.org/stable/modules/generated/sklearn.datasets.load_breast_cancer.html#sklearn.datasets.load_breast_cancer). \n",
    "\n",
    "Here, we apply Multinomial Naive Bayes for discrete features. We can construct a Multinomial Naive Bayes model by calling **naive_bayes.MultinomialNB()** from sklearn package. More about the model can be found [here](http://scikit-learn.org/stable/modules/generated/sklearn.naive_bayes.MultinomialNB.html#sklearn.naive_bayes.MultinomialNB)\n"
   ]
  },
  {
   "cell_type": "markdown",
   "metadata": {},
   "source": [
    "## Part 2A: Load and examine the dataset"
   ]
  },
  {
   "cell_type": "markdown",
   "metadata": {},
   "source": [
    "**Instruction 2.1.** Write your code to load the **breast cancer** dataset from sklearn and assign it to a variable called `cancer`.\n",
    "\n",
    "[**Total mark: 1**]"
   ]
  },
  {
   "cell_type": "code",
   "execution_count": 452,
   "metadata": {},
   "outputs": [
    {
     "name": "stdout",
     "output_type": "stream",
     "text": [
      "dict_keys(['data', 'target', 'target_names', 'DESCR', 'feature_names', 'filename'])\n"
     ]
    }
   ],
   "source": [
    "# YOU ARE REQUIRED TO INSERT YOUR CODES IN THIS CELL\n",
    "'''\n",
    "1. Write your code to load the dataset from sklearn and assign it to a variable called `cancer`.\n",
    "'''\n",
    "cancer =  datasets.load_breast_cancer()\n",
    "\n",
    "print(cancer.keys())"
   ]
  },
  {
   "cell_type": "markdown",
   "metadata": {},
   "source": [
    "**Note:** The cell code below assigns the data to variable `X` and the labels to variable `Y`. Run the cell and use `X` and `Y` for later tasks."
   ]
  },
  {
   "cell_type": "code",
   "execution_count": 453,
   "metadata": {},
   "outputs": [],
   "source": [
    "X = cancer['data']\n",
    "Y = cancer['target']"
   ]
  },
  {
   "cell_type": "markdown",
   "metadata": {},
   "source": [
    "**Instruction 2.2.** Now you need to examine the size of data. Write your code to find and print out the number of **samples** and the number of **features** in the dataset.\n",
    "\n",
    "[**Total mark: 1**]"
   ]
  },
  {
   "cell_type": "code",
   "execution_count": 454,
   "metadata": {},
   "outputs": [
    {
     "name": "stdout",
     "output_type": "stream",
     "text": [
      "The number of samples:\n",
      "569\n",
      "The number of features:\n",
      "30\n"
     ]
    }
   ],
   "source": [
    "# YOU ARE REQUIRED TO INSERT YOUR CODES IN THIS CELL\n",
    "'''\n",
    "2. Write your code to find and print out the number of **samples** \n",
    "    and the number of **features** in the dataset.\n",
    "    Using variable X.\n",
    "'''\n",
    "print('The number of samples:')\n",
    "print(len(X))\n",
    "\n",
    "print('The number of features:')\n",
    "print(len(X[0]))\n"
   ]
  },
  {
   "cell_type": "markdown",
   "metadata": {},
   "source": [
    "**Instruction 2.3.** The following code segment is designed to do some statistics on the labels to get a brief understanding about the prediction task. This is a classication task, it is important to know the number of categories (or number of classes) in the dataset and their frequencies.\n",
    "\n",
    "**Your tasks are:**\n",
    "\n",
    "1. Write your code to compute and print the number of classes in the dataset. (1 marks)\n",
    "2. Write your code to compute and print the number of occurrences of each class. (3 marks)\n",
    "\n",
    "[**Total marks: 4**]"
   ]
  },
  {
   "cell_type": "code",
   "execution_count": 455,
   "metadata": {},
   "outputs": [
    {
     "name": "stdout",
     "output_type": "stream",
     "text": [
      "['malignant' 'benign']\n",
      "Number of classes:  2\n"
     ]
    }
   ],
   "source": [
    "# YOU ARE REQUIRED TO INSERT YOUR CODES IN THIS CELL\n",
    "'''\n",
    "1. Write your code to compute and print the number of classes in the dataset.\n",
    "    Using variable Y.\n",
    "'''\n",
    "\n",
    "# compute and print the number of classes.\n",
    "#classes = list()\n",
    "lst = cancer.target_names\n",
    "print(lst)\n",
    "#print(cancer.target[[17,10,50]])\n",
    "print(\"Number of classes: \",len(lst) )"
   ]
  },
  {
   "cell_type": "code",
   "execution_count": 456,
   "metadata": {},
   "outputs": [
    {
     "name": "stdout",
     "output_type": "stream",
     "text": [
      "Number of occurences for Malignant:  212\n",
      "Number of occurences for Benign:  357\n"
     ]
    }
   ],
   "source": [
    "# YOU ARE REQUIRED TO INSERT YOUR CODES IN THIS CELL\n",
    "'''\n",
    "2. Write your code to compute and print the number of occurrences of each class.\n",
    "'''\n",
    "\n",
    "# compute and print the number of occurrences of each class\n",
    "#I found 0 = malignant and 1 = benign\n",
    "'''\n",
    "\n",
    "'''\n",
    "Item_lst = [] \n",
    "\n",
    "for item in Y:\n",
    "    a = item\n",
    "    Item_lst.append(a)\n",
    "    \n",
    "print(\"Number of occurences for Malignant: \",Item_lst.count(0))\n",
    "print(\"Number of occurences for Benign: \",Item_lst.count(1))"
   ]
  },
  {
   "cell_type": "markdown",
   "metadata": {},
   "source": [
    "## Part 2B. Classification with Naive Bayes\n",
    "\n",
    "You are required to apply Naive Bayes to train and make predictions on the **breast cancer** dataset."
   ]
  },
  {
   "cell_type": "markdown",
   "metadata": {},
   "source": [
    "Multinomial Naive Bayes classifier is used for discrete data. The features of the breast cancer dataset are however real values. The function below discretise the features in to 0 (low), 1 (middle) and 2 (high). Run the cell below."
   ]
  },
  {
   "cell_type": "code",
   "execution_count": 457,
   "metadata": {},
   "outputs": [],
   "source": [
    "def discretise(X):\n",
    "    # for each feature, values smaller than 33% percentile are set by 0 (low), \n",
    "    # from 33% to 67% percentile are set by 1 (middle) and other are set by 2 (high).\n",
    "    \n",
    "    n_feats = X.shape[-1]\n",
    "    X_discrete = npx.zeros(X.shape)\n",
    "    \n",
    "    for i in range(n_feats):\n",
    "        # compute val1 and val2 as the percentile of 33% and 67%, respectively of the column i\n",
    "        val1, val2 = npx.percentile(X[:, i], 33), npx.percentile(X[:, i], 67)   \n",
    "        \n",
    "        # increase all discrete values by 1 for all values in X that larger than val1\n",
    "        ids = npx.where(X[:, i] > val1)[0]\n",
    "        X_discrete[ids, i] += 1\n",
    "        \n",
    "        # increase all discrete values by 1 for all values in X that larger than val2\n",
    "        ids = npx.where(X[:, i] > val2)[0]\n",
    "        X_discrete[ids, i] += 1\n",
    "        \n",
    "    return X_discrete\n"
   ]
  },
  {
   "cell_type": "markdown",
   "metadata": {},
   "source": [
    "Then we call the discretise function for the feature X. Run the cell below and your data are ready for classification."
   ]
  },
  {
   "cell_type": "code",
   "execution_count": 458,
   "metadata": {},
   "outputs": [],
   "source": [
    "X = discretise(X)"
   ]
  },
  {
   "cell_type": "markdown",
   "metadata": {},
   "source": [
    "**Instruction 2.4.** Similar to **Part 1**, you need to split the dataset into a training set and a test set. We will use 70% samples for training and 30% for testing. Print the number of samples in each set.\n",
    "\n",
    "[**Total marks: 2**]"
   ]
  },
  {
   "cell_type": "code",
   "execution_count": 459,
   "metadata": {},
   "outputs": [
    {
     "name": "stdout",
     "output_type": "stream",
     "text": [
      "The number of samples in the training set:\n",
      "398\n",
      "The number of samples in the test set:\n",
      "171\n"
     ]
    }
   ],
   "source": [
    "# YOU ARE REQUIRED TO INSERT YOUR CODES IN THIS CELL\n",
    "\n",
    "# first, compute the number of samples in the training set:\n",
    "n_train = int(len(Y) * 0.7)\n",
    "\n",
    "# The training set is the first n_train samples in the dataset\n",
    "X_train = X[ : n_train]\n",
    "Y_train = Y[ : n_train]\n",
    "\n",
    "# The test set is the remaining samples in the dataset\n",
    "X_test = X[n_train: ]\n",
    "Y_test = Y[n_train: ]\n",
    "\n",
    "# Print the number of samples in the training set\n",
    "print('The number of samples in the training set:')\n",
    "print(len(X_train + len(Y_train)))\n",
    "\n",
    "\n",
    "# Print the number of samples in the test set\n",
    "print('The number of samples in the test set:')\n",
    "print(len(X_test + len(Y_test)))"
   ]
  },
  {
   "cell_type": "markdown",
   "metadata": {},
   "source": [
    "**Instruction 2.5.** Create a Multinomial Naive Bayes model called `mnb`.\n",
    "\n",
    "[**Total marks: 2**]"
   ]
  },
  {
   "cell_type": "code",
   "execution_count": 460,
   "metadata": {},
   "outputs": [],
   "source": [
    "# YOU ARE REQUIRED TO INSERT YOUR CODES IN THIS CELL\n",
    "mnb = naive_bayes.MultinomialNB()"
   ]
  },
  {
   "cell_type": "markdown",
   "metadata": {},
   "source": [
    "**Instruction 2.6.** Fit the training data to the model.\n",
    "\n",
    "[**Total marks: 2**]"
   ]
  },
  {
   "cell_type": "code",
   "execution_count": 461,
   "metadata": {},
   "outputs": [
    {
     "data": {
      "text/plain": [
       "MultinomialNB(alpha=1.0, class_prior=None, fit_prior=True)"
      ]
     },
     "execution_count": 461,
     "metadata": {},
     "output_type": "execute_result"
    }
   ],
   "source": [
    "# YOU ARE REQUIRED TO INSERT YOUR CODES IN THIS CELL\n",
    "mnb.fit(X_train , Y_train)"
   ]
  },
  {
   "cell_type": "markdown",
   "metadata": {},
   "source": [
    "**Instruction 2.7** Predict the output of the test set.\n",
    "\n",
    "[**Total marks: 2**]"
   ]
  },
  {
   "cell_type": "code",
   "execution_count": 463,
   "metadata": {},
   "outputs": [
    {
     "name": "stdout",
     "output_type": "stream",
     "text": [
      "predicted labels: [1 1 0 0 1 0 1 1 0 1 0 1 1 1 1 0 0 1 1 0 1 1 1 1 1 0 1 1 1 1 1 0 0 1 0 0 0\n",
      " 0 1 1 0 0 1 0 0 1 0 1 0 0 0 0 1 0 1 1 0 0 1 0 0 1 0 0 0 1 0 0 0 1 0 1 1 1\n",
      " 0 1 1 0 0 0 1 0 1 0 1 0 0 1 0 0 1 0 0 0 0 1 1 0 1 0 0 0 0 1 1 0 1 1 1 1 0\n",
      " 0 1 0 0 0 0 1 0 0 0 1 1 0 1 1 1 1 0 0 1 1 1 1 0 0 1 0 0 1 1 1 1 0 0 0 1 0\n",
      " 1 1 1 1 1 1 1 1 1 1 1 1 0 1 1 1 0 0 0 0 0 0 1]\n",
      "correct label:    [1 1 0 1 1 1 1 1 1 1 0 1 1 1 1 1 0 1 1 0 1 1 1 1 1 1 1 1 1 1 1 1 0 1 0 0 1\n",
      " 0 1 1 1 1 1 0 1 1 0 1 0 1 1 0 1 0 1 1 1 1 1 1 1 1 0 0 1 1 1 1 1 1 0 1 1 1\n",
      " 1 1 1 1 1 1 1 0 1 1 1 1 1 1 1 0 1 0 1 1 0 1 1 1 1 1 0 0 1 0 1 0 1 1 1 1 1\n",
      " 0 1 1 0 1 0 1 0 0 1 1 1 0 1 1 1 1 1 1 1 1 1 1 1 0 1 0 0 1 1 1 1 1 1 1 1 1\n",
      " 1 1 1 1 1 1 1 1 1 1 1 1 1 1 1 1 0 0 0 0 0 0 1]\n"
     ]
    }
   ],
   "source": [
    "Y_pred = mnb.predict(X_test)\n",
    "print('predicted labels:', Y_pred)\n",
    "print('correct label:   ', Y_test)"
   ]
  },
  {
   "cell_type": "markdown",
   "metadata": {
    "collapsed": true
   },
   "source": [
    "## Part 2C. Results and Visualization"
   ]
  },
  {
   "cell_type": "markdown",
   "metadata": {},
   "source": [
    "**Note:** To evaluate the performance of a classification task, commonly used measures are **accuracy**, **precision**, **recall** and **f1-score**."
   ]
  },
  {
   "cell_type": "markdown",
   "metadata": {},
   "source": [
    "**Instruction 2.8.** Compute the **accuracy**, **precision**, **recall** and **f1-score** of the predictions on the test set and print these values.\n",
    "\n",
    "[**Total marks: 8**]\n",
    "\n",
    "**Hint:** You might need to see [Classification metrics](http://scikit-learn.org/stable/modules/model_evaluation.html#classification-metrics) from sklearn."
   ]
  },
  {
   "cell_type": "code",
   "execution_count": 464,
   "metadata": {},
   "outputs": [
    {
     "name": "stdout",
     "output_type": "stream",
     "text": [
      "|===============================Accuracy=================================|\n",
      "accuracy: 0.7309941520467836\n",
      "|===============================Accuracy=================================|\n",
      "Precision Score: 0.9886363636363636\n",
      "|==============================Recall-sore===============================|\n",
      "Recall Score: 0.6590909090909091\n",
      "|===============================f1-Score=================================|\n",
      "F1 Score: 0.790909090909091\n"
     ]
    }
   ],
   "source": [
    "# YOU ARE REQUIRED TO INSERT YOUR CODES IN THIS CELL\n",
    "\n",
    "# Compute and print the accuracy of predictions on the test set\n",
    "print(\"|===============================Accuracy=================================|\")\n",
    "#print(\"Correct positions: \")\n",
    "correct_ids = npx.where(Y_test == Y_pred)[0]\n",
    "#print(correct_ids)\n",
    "accuracy = len(correct_ids) / len(Y_test)\n",
    "print('accuracy:', accuracy)\n",
    "\n",
    "# Compute and print the precision of predictions on the test set\n",
    "print(\"|===============================Accuracy=================================|\")\n",
    "prec = precision_score(Y_test, Y_pred)\n",
    "print('Precision Score:', prec)\n",
    "\n",
    "# Compute and print the recall of predictions on the test set\n",
    "print(\"|==============================Recall-sore===============================|\")\n",
    "recall = recall_score(Y_test, Y_pred)\n",
    "print('Recall Score:', recall)\n",
    "\n",
    "\n",
    "# Compute and print the f1-score of predictions on the test set\n",
    "print(\"|===============================f1-Score=================================|\")\n",
    "F1 = f1_score(Y_test, Y_pred)\n",
    "print('F1 Score:', F1)"
   ]
  },
  {
   "cell_type": "markdown",
   "metadata": {},
   "source": [
    "**Note:** We have evaluated the performance of the classification task by different measures. Now, we want to visualise the data as well as the predicted labels. [t-SNE](http://scikit-learn.org/stable/modules/generated/sklearn.manifold.TSNE.html) is a tool to convert high-dimensional data into low-dimensional ones. To visualise the data, we can use t-SNE to reduce the data dimension to 2D.\n",
    "\n",
    "The following function `reduce_to_2D` takes the matrix X of size (n_samples, n_features) and returns a matrix of size (n_samples, 2), which is a dimension-reduced version of X. **You will need this function for a subsequent task**."
   ]
  },
  {
   "cell_type": "code",
   "execution_count": 465,
   "metadata": {},
   "outputs": [],
   "source": [
    "def reduce_to_2D(X):\n",
    "    tsne = TSNE(n_components=2, random_state=1)\n",
    "    new_X = tsne.fit_transform(X)\n",
    "    return new_X"
   ]
  },
  {
   "cell_type": "markdown",
   "metadata": {},
   "source": [
    "**Instruction 2.9**. Visualisation.\n",
    "\n",
    "**Your tasks are:**\n",
    "\n",
    "1. Create a variable named `X_test_2D` that is the dimension-reduced version of X_test using function `reduce_to_2D`. (4 marks)\n",
    "\n",
    "2. Visualise `X_test_2D` using scatter() with the colors being the corresponding predicted labels. (4 marks)\n",
    "\n",
    "\n",
    "[**Total mark: 8**]"
   ]
  },
  {
   "cell_type": "code",
   "execution_count": 466,
   "metadata": {},
   "outputs": [
    {
     "name": "stdout",
     "output_type": "stream",
     "text": [
      "[[  5.866878    -9.350258  ]\n",
      " [  2.5662253   -8.891276  ]\n",
      " [ -6.140253     5.4551535 ]\n",
      " [  7.5120344   -6.8492146 ]\n",
      " [  2.3194077   -1.754896  ]\n",
      " [  2.967849     1.2446468 ]\n",
      " [  4.25695     -3.0593567 ]\n",
      " [ -1.0508919   -8.562005  ]\n",
      " [  4.5905337    3.5480213 ]\n",
      " [ -1.5571017   -1.012944  ]\n",
      " [ -6.963453     7.829005  ]\n",
      " [  3.1356616   -2.4974806 ]\n",
      " [  6.8105583   -7.666745  ]\n",
      " [  4.450198    -8.900725  ]\n",
      " [ -0.02043223  -4.532176  ]\n",
      " [ -3.4713275    2.6355786 ]\n",
      " [  9.548936    -2.1125643 ]\n",
      " [ -1.2529826   -7.4623857 ]\n",
      " [  1.1509556   -8.529572  ]\n",
      " [ -5.851728     6.194119  ]\n",
      " [  4.1240473    0.13877194]\n",
      " [  3.9170206   -6.8173113 ]\n",
      " [  0.23054586  -6.8654904 ]\n",
      " [ -7.256683     2.2706745 ]\n",
      " [ -3.149333    -8.613545  ]\n",
      " [ -1.2120302    1.4610364 ]\n",
      " [  0.878446    -8.659976  ]\n",
      " [  6.026595    -7.0641932 ]\n",
      " [ -5.656319    -6.44357   ]\n",
      " [  0.5301287   -6.8304944 ]\n",
      " [  5.359489    -8.034155  ]\n",
      " [  5.38993     -1.309278  ]\n",
      " [ -5.40934      4.606024  ]\n",
      " [ -5.1964335   -4.831654  ]\n",
      " [ -5.5272303    7.920744  ]\n",
      " [ -4.6980333    7.1779375 ]\n",
      " [  5.9052677    0.54585546]\n",
      " [ -1.2360324    3.101154  ]\n",
      " [  3.0590513   -0.6688671 ]\n",
      " [  4.7110643   -1.8880501 ]\n",
      " [  6.3826656   -3.6647706 ]\n",
      " [  5.97809      0.9692142 ]\n",
      " [ -3.5054317   -3.7737403 ]\n",
      " [ -2.9916816    7.280415  ]\n",
      " [  5.3606644   -1.0084343 ]\n",
      " [  1.9930782   -6.0610147 ]\n",
      " [  0.480423     5.2981596 ]\n",
      " [ -2.5622358   -5.183953  ]\n",
      " [ -4.323675     5.377398  ]\n",
      " [  2.8190525    0.41201437]\n",
      " [  8.315171    -0.44758418]\n",
      " [ -2.09356      7.8493524 ]\n",
      " [ -2.0218315   -3.6633003 ]\n",
      " [ -3.0598192    8.302799  ]\n",
      " [ -0.05710103  -4.71062   ]\n",
      " [  1.4731033   -0.23446372]\n",
      " [  4.3816705    1.526919  ]\n",
      " [  6.1225896   -2.9940946 ]\n",
      " [ -0.1652165   -6.7904124 ]\n",
      " [  7.443359    -3.8452091 ]\n",
      " [  7.021495    -3.344959  ]\n",
      " [  5.900587    -6.82057   ]\n",
      " [ -5.1529703    7.3107076 ]\n",
      " [ -4.4911323    8.015924  ]\n",
      " [  7.2721996   -2.2644515 ]\n",
      " [  3.7025862   -9.849052  ]\n",
      " [  7.0817337    0.65542114]\n",
      " [ -2.5667326    1.296755  ]\n",
      " [ -1.9499476    0.9252407 ]\n",
      " [  2.7060735   -6.841238  ]\n",
      " [ -4.456271     6.278378  ]\n",
      " [ -5.8071327   -4.7314157 ]\n",
      " [  0.9791103   -7.604891  ]\n",
      " [  4.624865    -4.9903364 ]\n",
      " [  4.4476686    3.5619144 ]\n",
      " [  4.1255407   -5.070524  ]\n",
      " [ -5.515634    -9.537408  ]\n",
      " [  2.4618645    2.3369727 ]\n",
      " [ -1.935728     0.05338883]\n",
      " [  4.814583     1.1768075 ]\n",
      " [ -4.958868    -9.42366   ]\n",
      " [ -6.77183      5.126186  ]\n",
      " [  6.2489367   -8.471108  ]\n",
      " [  6.683173    -1.1922255 ]\n",
      " [  1.6685503    1.343931  ]\n",
      " [  7.4871387   -0.3060143 ]\n",
      " [  0.6207267    3.9472017 ]\n",
      " [ -6.784872     2.1571722 ]\n",
      " [  7.1535087    0.19177738]\n",
      " [ -7.268802     6.5470843 ]\n",
      " [ -3.1558132   -7.920296  ]\n",
      " [  4.497097     2.9037817 ]\n",
      " [  7.496043    -5.371808  ]\n",
      " [  6.0066      -0.31573057]\n",
      " [ -5.623904     8.515329  ]\n",
      " [  3.2636673   -4.1864543 ]\n",
      " [  5.6002784   -3.7938135 ]\n",
      " [  8.187162    -1.0356835 ]\n",
      " [  0.13448925   1.9164133 ]\n",
      " [  3.5026784    1.090016  ]\n",
      " [ -4.925209     6.3843365 ]\n",
      " [ -5.573059     7.006321  ]\n",
      " [  1.3821027    4.977579  ]\n",
      " [ -7.554732     4.601416  ]\n",
      " [ -3.4049485   -7.1048813 ]\n",
      " [ -4.296673     9.092678  ]\n",
      " [ -5.8139453   -5.7982473 ]\n",
      " [ -5.9468417   -5.6825333 ]\n",
      " [ -5.048076    -9.834037  ]\n",
      " [ -4.540739    -7.6871104 ]\n",
      " [  5.9751573    3.0489311 ]\n",
      " [ -5.400258     5.695791  ]\n",
      " [ -6.1783276   -7.5172443 ]\n",
      " [  6.1299787    1.0960609 ]\n",
      " [ -6.1487637    3.8683183 ]\n",
      " [  2.9852045    3.66148   ]\n",
      " [ -0.7388064    6.7481284 ]\n",
      " [ -2.4967666   -7.811452  ]\n",
      " [ -6.8756256    7.9373083 ]\n",
      " [ -6.4583073    7.6113834 ]\n",
      " [ -3.3770614   -1.3662221 ]\n",
      " [ -3.4602344   -6.6970325 ]\n",
      " [ -4.4775186   -7.119266  ]\n",
      " [ -6.645019     6.1295295 ]\n",
      " [  6.031805    -7.8705783 ]\n",
      " [ -2.8587654   -1.2516155 ]\n",
      " [ -2.8729095   -9.960563  ]\n",
      " [ -3.7448165   -9.709482  ]\n",
      " [  1.8366537    1.8634863 ]\n",
      " [  3.6695902    1.7080745 ]\n",
      " [ -7.4682503    1.0281686 ]\n",
      " [ -3.1055033   -9.325535  ]\n",
      " [ -0.94285464  -8.913134  ]\n",
      " [ -4.987827   -10.375653  ]\n",
      " [  4.310616     0.8491382 ]\n",
      " [ -5.1333194    9.346755  ]\n",
      " [ -3.4735487   -4.7154026 ]\n",
      " [ -6.615631     6.99682   ]\n",
      " [ -4.202853     0.67010176]\n",
      " [ -5.801395    -4.1879964 ]\n",
      " [  2.2498572   -7.079827  ]\n",
      " [ -4.645792    -3.8275032 ]\n",
      " [ -4.7788906   -5.733961  ]\n",
      " [ -3.2111497    1.8708639 ]\n",
      " [  8.163051    -2.1271257 ]\n",
      " [  7.891142    -2.9851034 ]\n",
      " [ -0.88303554  -1.7388403 ]\n",
      " [  6.2637444   -2.92421   ]\n",
      " [  4.8363075   -8.563885  ]\n",
      " [ -5.768533    -7.4953675 ]\n",
      " [  2.099547    -5.4968724 ]\n",
      " [  1.9093478   -7.5073953 ]\n",
      " [  4.1810174   -6.1749597 ]\n",
      " [ -0.40669224  -6.041117  ]\n",
      " [  7.6205444   -4.065719  ]\n",
      " [  0.96952504  -5.5726056 ]\n",
      " [  8.388938    -4.1840887 ]\n",
      " [ -2.8035803   -4.566377  ]\n",
      " [  3.8560383   -7.7305512 ]\n",
      " [  3.6207504   -5.695459  ]\n",
      " [ -2.3734481    0.6613076 ]\n",
      " [ -3.1385746   -4.2108994 ]\n",
      " [ -1.7733098   -1.3852357 ]\n",
      " [  4.6674423   -6.020943  ]\n",
      " [ -6.1137505    5.020754  ]\n",
      " [ -5.8536797    6.1771135 ]\n",
      " [ -3.8627388    8.062602  ]\n",
      " [ -2.7326813    8.347377  ]\n",
      " [ -2.590345     7.0185833 ]\n",
      " [ -7.0046606    5.7261896 ]\n",
      " [  3.792536    -6.3737335 ]]\n"
     ]
    }
   ],
   "source": [
    "# YOU ARE REQUIRED TO INSERT YOUR CODES IN THIS CELL\n",
    "'''\n",
    "1. Create a variable named `X_test_2D` \n",
    "    that is the dimension-reduced version of X_test using function `reduce_to_2D`.\n",
    "'''\n",
    "\n",
    "X_test_2D = reduce_to_2D(X_test)\n",
    "print(X_test_2D)"
   ]
  },
  {
   "cell_type": "code",
   "execution_count": 467,
   "metadata": {},
   "outputs": [
    {
     "ename": "ValueError",
     "evalue": "x and y must be the same size",
     "output_type": "error",
     "traceback": [
      "\u001b[1;31m---------------------------------------------------------------------------\u001b[0m",
      "\u001b[1;31mValueError\u001b[0m                                Traceback (most recent call last)",
      "\u001b[1;32m<ipython-input-467-2a967078ae84>\u001b[0m in \u001b[0;36m<module>\u001b[1;34m\u001b[0m\n\u001b[0;32m      8\u001b[0m \u001b[1;33m\u001b[0m\u001b[0m\n\u001b[0;32m      9\u001b[0m \u001b[1;31m# visualise Test\u001b[0m\u001b[1;33m\u001b[0m\u001b[1;33m\u001b[0m\u001b[1;33m\u001b[0m\u001b[0m\n\u001b[1;32m---> 10\u001b[1;33m \u001b[0max\u001b[0m\u001b[1;33m.\u001b[0m\u001b[0mscatter\u001b[0m\u001b[1;33m(\u001b[0m\u001b[0mX_test_2D\u001b[0m\u001b[1;33m,\u001b[0m \u001b[0mY_test\u001b[0m \u001b[1;33m,\u001b[0m\u001b[0mcolor\u001b[0m\u001b[1;33m=\u001b[0m\u001b[1;34m'green'\u001b[0m\u001b[1;33m,\u001b[0m\u001b[0malpha\u001b[0m\u001b[1;33m=\u001b[0m\u001b[1;36m0.6\u001b[0m\u001b[1;33m,\u001b[0m\u001b[0medgecolor\u001b[0m\u001b[1;33m=\u001b[0m\u001b[1;34m'black'\u001b[0m\u001b[1;33m)\u001b[0m\u001b[1;33m\u001b[0m\u001b[1;33m\u001b[0m\u001b[0m\n\u001b[0m\u001b[0;32m     11\u001b[0m \u001b[1;33m\u001b[0m\u001b[0m\n\u001b[0;32m     12\u001b[0m \u001b[1;31m# visualise the data with the predicted labels\u001b[0m\u001b[1;33m\u001b[0m\u001b[1;33m\u001b[0m\u001b[1;33m\u001b[0m\u001b[0m\n",
      "\u001b[1;32mC:\\ProgramData\\Anaconda3\\lib\\site-packages\\matplotlib\\__init__.py\u001b[0m in \u001b[0;36minner\u001b[1;34m(ax, data, *args, **kwargs)\u001b[0m\n\u001b[0;32m   1597\u001b[0m     \u001b[1;32mdef\u001b[0m \u001b[0minner\u001b[0m\u001b[1;33m(\u001b[0m\u001b[0max\u001b[0m\u001b[1;33m,\u001b[0m \u001b[1;33m*\u001b[0m\u001b[0margs\u001b[0m\u001b[1;33m,\u001b[0m \u001b[0mdata\u001b[0m\u001b[1;33m=\u001b[0m\u001b[1;32mNone\u001b[0m\u001b[1;33m,\u001b[0m \u001b[1;33m**\u001b[0m\u001b[0mkwargs\u001b[0m\u001b[1;33m)\u001b[0m\u001b[1;33m:\u001b[0m\u001b[1;33m\u001b[0m\u001b[1;33m\u001b[0m\u001b[0m\n\u001b[0;32m   1598\u001b[0m         \u001b[1;32mif\u001b[0m \u001b[0mdata\u001b[0m \u001b[1;32mis\u001b[0m \u001b[1;32mNone\u001b[0m\u001b[1;33m:\u001b[0m\u001b[1;33m\u001b[0m\u001b[1;33m\u001b[0m\u001b[0m\n\u001b[1;32m-> 1599\u001b[1;33m             \u001b[1;32mreturn\u001b[0m \u001b[0mfunc\u001b[0m\u001b[1;33m(\u001b[0m\u001b[0max\u001b[0m\u001b[1;33m,\u001b[0m \u001b[1;33m*\u001b[0m\u001b[0mmap\u001b[0m\u001b[1;33m(\u001b[0m\u001b[0msanitize_sequence\u001b[0m\u001b[1;33m,\u001b[0m \u001b[0margs\u001b[0m\u001b[1;33m)\u001b[0m\u001b[1;33m,\u001b[0m \u001b[1;33m**\u001b[0m\u001b[0mkwargs\u001b[0m\u001b[1;33m)\u001b[0m\u001b[1;33m\u001b[0m\u001b[1;33m\u001b[0m\u001b[0m\n\u001b[0m\u001b[0;32m   1600\u001b[0m \u001b[1;33m\u001b[0m\u001b[0m\n\u001b[0;32m   1601\u001b[0m         \u001b[0mbound\u001b[0m \u001b[1;33m=\u001b[0m \u001b[0mnew_sig\u001b[0m\u001b[1;33m.\u001b[0m\u001b[0mbind\u001b[0m\u001b[1;33m(\u001b[0m\u001b[0max\u001b[0m\u001b[1;33m,\u001b[0m \u001b[1;33m*\u001b[0m\u001b[0margs\u001b[0m\u001b[1;33m,\u001b[0m \u001b[1;33m**\u001b[0m\u001b[0mkwargs\u001b[0m\u001b[1;33m)\u001b[0m\u001b[1;33m\u001b[0m\u001b[1;33m\u001b[0m\u001b[0m\n",
      "\u001b[1;32mC:\\ProgramData\\Anaconda3\\lib\\site-packages\\matplotlib\\axes\\_axes.py\u001b[0m in \u001b[0;36mscatter\u001b[1;34m(self, x, y, s, c, marker, cmap, norm, vmin, vmax, alpha, linewidths, verts, edgecolors, plotnonfinite, **kwargs)\u001b[0m\n\u001b[0;32m   4441\u001b[0m         \u001b[0my\u001b[0m \u001b[1;33m=\u001b[0m \u001b[0mnp\u001b[0m\u001b[1;33m.\u001b[0m\u001b[0mma\u001b[0m\u001b[1;33m.\u001b[0m\u001b[0mravel\u001b[0m\u001b[1;33m(\u001b[0m\u001b[0my\u001b[0m\u001b[1;33m)\u001b[0m\u001b[1;33m\u001b[0m\u001b[1;33m\u001b[0m\u001b[0m\n\u001b[0;32m   4442\u001b[0m         \u001b[1;32mif\u001b[0m \u001b[0mx\u001b[0m\u001b[1;33m.\u001b[0m\u001b[0msize\u001b[0m \u001b[1;33m!=\u001b[0m \u001b[0my\u001b[0m\u001b[1;33m.\u001b[0m\u001b[0msize\u001b[0m\u001b[1;33m:\u001b[0m\u001b[1;33m\u001b[0m\u001b[1;33m\u001b[0m\u001b[0m\n\u001b[1;32m-> 4443\u001b[1;33m             \u001b[1;32mraise\u001b[0m \u001b[0mValueError\u001b[0m\u001b[1;33m(\u001b[0m\u001b[1;34m\"x and y must be the same size\"\u001b[0m\u001b[1;33m)\u001b[0m\u001b[1;33m\u001b[0m\u001b[1;33m\u001b[0m\u001b[0m\n\u001b[0m\u001b[0;32m   4444\u001b[0m \u001b[1;33m\u001b[0m\u001b[0m\n\u001b[0;32m   4445\u001b[0m         \u001b[1;32mif\u001b[0m \u001b[0ms\u001b[0m \u001b[1;32mis\u001b[0m \u001b[1;32mNone\u001b[0m\u001b[1;33m:\u001b[0m\u001b[1;33m\u001b[0m\u001b[1;33m\u001b[0m\u001b[0m\n",
      "\u001b[1;31mValueError\u001b[0m: x and y must be the same size"
     ]
    },
    {
     "data": {
      "image/png": "[encoded data removed]",
      "text/plain": [
       "<Figure size 700x700 with 1 Axes>"
      ]
     },
     "metadata": {
      "needs_background": "light"
     },
     "output_type": "display_data"
    }
   ],
   "source": [
    "# YOU ARE REQUIRED TO INSERT YOUR CODES IN THIS CELL\n",
    "'''\n",
    "2. Visualise `X_test_2D` by scatters with the colors being the corresponding predicted labels.\n",
    "'''\n",
    "\n",
    "# INSERT YOUR CODE HERE\n",
    "fig,ax = plt.subplots(figsize=(7,7),dpi=100)\n",
    "\n",
    "# visualise Test\n",
    "ax.scatter(X_test_2D, Y_test ,color='green',alpha=0.6,edgecolor='black')\n",
    "\n",
    "# visualise the data with the predicted labels\n",
    "ax.plot(X_test_2D, Y_pred)\n",
    "ax.set_xlabel('x')\n",
    "ax.set_ylabel('y')"
   ]
  },
  {
   "cell_type": "code",
   "execution_count": 468,
   "metadata": {},
   "outputs": [
    {
     "data": {
      "text/plain": [
       "Text(0, 0.5, 'y')"
      ]
     },
     "execution_count": 468,
     "metadata": {},
     "output_type": "execute_result"
    },
    {
     "data": {
      "image/png": "[encoded data removed]",
      "text/plain": [
       "<Figure size 2100x1500 with 1 Axes>"
      ]
     },
     "metadata": {
      "needs_background": "light"
     },
     "output_type": "display_data"
    }
   ],
   "source": [
    "fig, ax = plt.subplots(figsize=(7, 5), dpi=300)\n",
    "ax.scatter(X_test_2D, X_test_2D, alpha=0.6, edgecolor='none', s=200)\n",
    "\n",
    "ax.set_xlabel('x')\n",
    "ax.set_ylabel('y')"
   ]
  }
 ],
 "metadata": {
  "kernelspec": {
   "display_name": "Python 3",
   "language": "python",
   "name": "python3"
  },
  "language_info": {
   "codemirror_mode": {
    "name": "ipython",
    "version": 3
   },
   "file_extension": ".py",
   "mimetype": "text/x-python",
   "name": "python",
   "nbconvert_exporter": "python",
   "pygments_lexer": "ipython3",
   "version": "3.7.6"
  }
 },
 "nbformat": 4,
 "nbformat_minor": 1
}
